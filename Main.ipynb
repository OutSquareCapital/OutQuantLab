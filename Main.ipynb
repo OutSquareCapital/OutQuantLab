{
 "cells": [
  {
   "cell_type": "markdown",
   "metadata": {},
   "source": [
    "# Imports"
   ]
  },
  {
   "cell_type": "code",
   "execution_count": null,
   "metadata": {},
   "outputs": [],
   "source": [
    "# Import des modules\n",
    "import Config\n",
    "from Signals import *\n",
    "import Portfolio\n",
    "import Get_Data\n",
    "import Process_Data\n",
    "import Dashboard\n",
    "import Backtest"
   ]
  },
  {
   "cell_type": "markdown",
   "metadata": {},
   "source": [
    "# Config"
   ]
  },
  {
   "cell_type": "code",
   "execution_count": null,
   "metadata": {},
   "outputs": [],
   "source": [
    "# Appels des méthodes d'indicateurs\n",
    "methods = [\n",
    "    #SeasonalBreakout.seasonal_breakout_returns,\n",
    "    #SeasonalBreakoutTrend.seasonal_breakout_returns_trend,\n",
    "\n",
    "    #RiskPremium.fixed_bias,\n",
    "\n",
    "    #Trend.mean_price_ratio,                                             #VALIDE\n",
    "    #Trend.median_price_ratio,                                             #VALIDE\n",
    "    #Trend.central_price_ratio,                                          #VALIDE\n",
    "    #Trend.mean_rate_of_change,                                          #VALIDE\n",
    "    #Trend.median_rate_of_change,                                        #VALIDE\n",
    "    #Trend.central_rate_of_change,                                       #VALIDE                 \n",
    "\n",
    "    #Acceleration.mean_price_macd,                                       #VALIDE\n",
    "    #Acceleration.median_price_macd,                                     #VALIDE\n",
    "    #Acceleration.central_price_macd,                                    #VALIDE\n",
    "    #Acceleration.mean_rate_of_change_macd,                              #VALIDE\n",
    "    #Acceleration.median_rate_of_change_macd,                            #VALIDE\n",
    "    #Acceleration.central_rate_of_change_macd,                           #VALIDE \n",
    "\n",
    "    #AccelerationTrend.mean_price_macd_trend,                            #VALIDE\n",
    "    #AccelerationTrend.median_price_macd_trend,                          #VALIDE\n",
    "    #AccelerationTrend.central_price_macd_trend,                         #VALIDE\n",
    "    #AccelerationTrend.mean_rate_of_change_macd_trend,                   #VALIDE\n",
    "    #AccelerationTrend.median_rate_of_change_macd_trend,                 #VALIDE\n",
    "    #AccelerationTrend.central_rate_of_change_macd_trend,                #VALIDE \n",
    "\n",
    "    MeanReversion.mean_price_ratio_normalised,                             #VALIDE \n",
    "    #MeanReversion.mean_rate_of_change_normalised,                          #VALIDE \n",
    "\n",
    "    #MeanReversionTrend.mean_price_ratio_normalised_trend,                  #VALIDE  \n",
    "    #MeanReversionTrend.mean_rate_of_change_normalised_trend,               #VALIDE \n",
    "\n",
    "    #ReturnsDistribution.skewness,                                         #VALIDE, WORK BEST LT\n",
    "    #ReturnsDistribution.relative_skewness,                                 #VALIDE, WORK BEST ST\n",
    "    #ReturnsDistribution.skewness_on_kurtosis_ST,                           #VALIDE, WORK BEST ST\n",
    "    #ReturnsDistribution.skewness_on_kurtosis_LT,                           #VALIDE, WORK BEST LT\n",
    "    #ReturnsDistribution.relative_skewness_on_kurtosis_ST,                  #VALIDE, WORK BEST ST\n",
    "    #ReturnsDistribution.relative_skewness_on_kurtosis_LT,                  #VALIDE, WORK BEST LT\n",
    "\n",
    "    #ReturnsDistributionTrend.skewness_trend,                               #VALIDE\n",
    "    #ReturnsDistributionTrend.relative_skewness_trend,                      #VALIDE\n",
    "    #ReturnsDistributionTrend.skewness_on_kurtosis_ST_trend,                #VALIDE\n",
    "    #ReturnsDistributionTrend.skewness_on_kurtosis_LT_trend,                #VALIDE   \n",
    "    #ReturnsDistributionTrend.relative_skewness_on_kurtosis_ST_trend,       #VALIDE   \n",
    "    #ReturnsDistributionTrend.relative_skewness_on_kurtosis_LT_trend,       #VALIDE \n",
    "    \n",
    "    #Volatility.relative_directional_volatility,                            #VALIDE, WORK BEST LT\n",
    "    #Volatility.normalised_directional_volatility,                          #VALIDE, WORK BEST ST\n",
    "\n",
    "    #VolatilityTrend.relative_directional_volatility_trend,                 #VALIDE\n",
    "    #VolatilityTrend.normalised_directional_volatility_trend,               #VALIDE\n",
    "\n",
    "    #Seasonality.seasonal_trend,\n",
    "\n",
    "    #SeasonalityTrend.overall_seasonal_trend\n",
    "    ]"
   ]
  },
  {
   "cell_type": "code",
   "execution_count": null,
   "metadata": {},
   "outputs": [],
   "source": [
    "# Spécification des options de paramètres\n",
    "\n",
    "param_options = {\n",
    "    'Trend': {\n",
    "        'LenST': Backtest.param_range_values(4, 64, 5),\n",
    "        'LenLT': Backtest.param_range_values(16, 256, 5),\n",
    "    },\n",
    "    'Acceleration': {\n",
    "        'LenST': Backtest.param_range_values(16, 64, 3),\n",
    "        'LenLT': Backtest.param_range_values(64, 256, 3),\n",
    "        'MacdLength': Backtest.param_range_values(2, 64, 6),\n",
    "    },\n",
    "    'AccelerationTrend': {\n",
    "        'LenST': Backtest.param_range_values(16, 64, 3),\n",
    "        'LenLT': Backtest.param_range_values(64, 256, 3),\n",
    "        'MacdLength': Backtest.param_range_values(2, 64, 3),\n",
    "        'TrendLenST': Backtest.param_range_values(4, 64, 5),\n",
    "        'TrendLenLT': Backtest.param_range_values(16, 256, 5),\n",
    "    },\n",
    "    'MeanReversion': {\n",
    "        'SignalLength': Backtest.param_range_values(4, 64, 5),\n",
    "        'PLength': Backtest.param_range_values(128, 2048, 5),\n",
    "    },\n",
    "    'MeanReversionTrend': {\n",
    "        'SignalLength': Backtest.param_range_values(4, 64, 5),\n",
    "        'PLength': Backtest.param_range_values(128, 2048, 5),\n",
    "        'LenST': Backtest.param_range_values(16, 64, 3),\n",
    "        'LenLT': Backtest.param_range_values(64, 256, 3),\n",
    "    },\n",
    "    'ReturnsDistribution': {\n",
    "        'LenSmooth': Backtest.param_range_values(1, 1, 1),\n",
    "        'LenSkew': Backtest.param_range_values(4, 512, 8),\n",
    "    },\n",
    "    'ReturnsDistributionTrend': {\n",
    "        'LenSmooth': Backtest.param_range_values(1, 32, 6),\n",
    "        'LenSkew': Backtest.param_range_values(4, 512, 6),\n",
    "        'TrendLenST': Backtest.param_range_values(4, 64, 5),\n",
    "        'TrendLenLT': Backtest.param_range_values(16, 256, 5),\n",
    "    },\n",
    "    'Volatility': {\n",
    "        'LenVol': Backtest.param_range_values(4, 256, 7),\n",
    "        'LenST': Backtest.param_range_values(1, 64, 7),\n",
    "        'LenLT': Backtest.param_range_values(64, 512, 4),\n",
    "    },\n",
    "    'VolatilityTrend': {\n",
    "        'LenVol': Backtest.param_range_values(4, 256, 7),\n",
    "        'LenST': Backtest.param_range_values(1, 1, 5),\n",
    "        'LenLT': Backtest.param_range_values(64, 512, 4),\n",
    "        'TrendLenST': Backtest.param_range_values(4, 64, 5),\n",
    "        'TrendLenLT': Backtest.param_range_values(16, 256, 5),\n",
    "    },\n",
    "    'Seasonality': {\n",
    "        'GroupBy': [1],\n",
    "        'GroupSelected': [1,2,3,4,5],\n",
    "        'LenST': Backtest.param_range_values(1, 64, 6),\n",
    "        'LenLT': Backtest.param_range_values(4, 256, 6),\n",
    "    },\n",
    "    'SeasonalityTrend': {\n",
    "        'GroupBy': [1],\n",
    "        'GroupSelected': [1],\n",
    "         'LenST': Backtest.param_range_values(1, 64, 1),\n",
    "        'LenLT': Backtest.param_range_values(4, 256, 1),\n",
    "        'TrendLenST': Backtest.param_range_values(4, 64, 5),\n",
    "        'TrendLenLT': Backtest.param_range_values(16, 256, 5),\n",
    "    },\n",
    "    'RiskPremium': {\n",
    "        'Bias': [1]\n",
    "    },\n",
    "\n",
    "\n",
    "  'SeasonalBreakout': {\n",
    "        'LengthMean': Backtest.param_range_values(64, 256, 1),\n",
    "        'LengthSnapshot': Backtest.param_range_values(2, 16, 1),\n",
    "        'amplitude': Backtest.param_range_values(10, 20, 1, linear = True),\n",
    "    },\n",
    "    'SeasonalBreakoutTrend': {\n",
    "        'LengthMean': Backtest.param_range_values(64, 256, 1),\n",
    "        'LengthSnapshot': Backtest.param_range_values(2, 16, 1),\n",
    "        'amplitude': Backtest.param_range_values(10, 20, 1, linear = True),\n",
    "        'LenST': Backtest.param_range_values(16, 64, 1),\n",
    "        'LenLT': Backtest.param_range_values(64, 256, 1),\n",
    "    },\n",
    "\n",
    "}"
   ]
  },
  {
   "cell_type": "code",
   "execution_count": null,
   "metadata": {},
   "outputs": [],
   "source": [
    "# Génération automatisée des indicateurs et params\n",
    "indicators_and_params = Backtest.automatic_generation(methods, param_options)"
   ]
  },
  {
   "cell_type": "markdown",
   "metadata": {},
   "source": [
    "# Get Data"
   ]
  },
  {
   "cell_type": "code",
   "execution_count": null,
   "metadata": {},
   "outputs": [],
   "source": [
    "# Re-actualisation du data\n",
    "#Get_Data.get_yahoo_finance_data(Config.yahoo_assets, Config.file_path_yf)\n",
    "\n",
    "# Data formatting & cleaning\n",
    "#Get_Data.clean_and_process_prices(Config.file_path_yf)"
   ]
  },
  {
   "cell_type": "code",
   "execution_count": null,
   "metadata": {},
   "outputs": [],
   "source": [
    "data_prices_df, assets_names = Get_Data.load_prices_from_csv(Config.file_path_yf)"
   ]
  },
  {
   "cell_type": "markdown",
   "metadata": {},
   "source": [
    "# Process Data"
   ]
  },
  {
   "cell_type": "code",
   "execution_count": null,
   "metadata": {},
   "outputs": [],
   "source": [
    "# Spécification des actifs à Backtest\n",
    "assets = assets_names\n",
    "ratios = []\n",
    "ensembles = []\n",
    "canary_assets = []\n",
    "canary_ratios = []\n",
    "canary_ensembles = []\n",
    "\n",
    "data_prices_df = Process_Data.adjust_prices_for_inversion(data_prices_df, ['VIXY'])\n",
    "\n",
    "data = Process_Data.process_category_data(\n",
    "    assets_names, \n",
    "    data_prices_df, \n",
    "    assets, \n",
    "    ratios, \n",
    "    ensembles, \n",
    "    canary_assets, \n",
    "    canary_ratios, \n",
    "    canary_ensembles,\n",
    "    initial_equity=100\n",
    ")\n",
    "\n",
    "prices_df_test = data['returnstreams']['prices_df']\n",
    "pct_returns_df_test = data['returnstreams']['pct_returns_df']\n",
    "log_returns_df_test = data['returnstreams']['log_returns_df']\n",
    "prices_array_test = data['returnstreams']['prices_array']\n",
    "pct_returns_array_test = data['returnstreams']['pct_returns_array']\n",
    "log_returns_array_test = data['returnstreams']['log_returns_array']\n",
    "hv_array_test = data['returnstreams']['hv_array']\n",
    "asset_names_test = data['returnstreams']['asset_names']\n",
    "\n",
    "portfolio_base_structure = Portfolio.classify_assets(asset_names_test, Config.portfolio_etf)"
   ]
  },
  {
   "cell_type": "code",
   "execution_count": null,
   "metadata": {},
   "outputs": [],
   "source": [
    "# Suppression des objets désormais inutiles\n",
    "del (\n",
    "    assets,\n",
    "    data_prices_df, \n",
    "    assets_names, \n",
    "    data\n",
    "    )"
   ]
  },
  {
   "cell_type": "markdown",
   "metadata": {},
   "source": [
    "# Trading Signals"
   ]
  },
  {
   "cell_type": "code",
   "execution_count": null,
   "metadata": {},
   "outputs": [],
   "source": [
    "signals_df, raw_adjusted_returns_df = Backtest.SignalsProcessing.trading_signals(prices_array_test,\n",
    "                                                                                log_returns_array_test,\n",
    "                                                                                log_returns_df_test,\n",
    "                                                                                pct_returns_array_test,\n",
    "                                                                                hv_array_test,\n",
    "                                                                                asset_names_test,\n",
    "                                                                                indicators_and_params)"
   ]
  },
  {
   "cell_type": "code",
   "execution_count": null,
   "metadata": {},
   "outputs": [],
   "source": [
    "# Suppression des objets désormais inutiles\n",
    "del (\n",
    "    indicators_and_params, \n",
    "    prices_df_test, \n",
    "    log_returns_df_test,\n",
    "    prices_array_test, \n",
    "    pct_returns_array_test, \n",
    "    log_returns_array_test, \n",
    "    hv_array_test, \n",
    "    asset_names_test, \n",
    "    signals_df\n",
    "    )"
   ]
  },
  {
   "cell_type": "markdown",
   "metadata": {},
   "source": [
    "# Portfolio Construction"
   ]
  },
  {
   "cell_type": "code",
   "execution_count": null,
   "metadata": {},
   "outputs": [],
   "source": [
    "relativized_sharpes_df = Portfolio.relative_sharpe_on_confidence_period(raw_adjusted_returns_df, sharpe_lookback = 5000, confidence_lookback=2500)\n",
    "optimized_returns_rltv = raw_adjusted_returns_df * relativized_sharpes_df.shift(1)"
   ]
  },
  {
   "cell_type": "code",
   "execution_count": null,
   "metadata": {},
   "outputs": [],
   "source": [
    "test_strategy_returns = Portfolio.calculate_daily_average_returns(optimized_returns_rltv, by_method=True, by_class=True, by_asset=True)\n",
    "test_asset_returns = Portfolio.generate_recursive_strategy_means(test_strategy_returns, Config.portfolio_strategies)\n",
    "test_global_returns = Portfolio.generate_recursive_means(test_asset_returns, portfolio_base_structure)\n",
    "test_global_returns = test_global_returns.rename(columns={test_global_returns.columns[0]: 'cluster_optimized'})\n",
    "\n",
    "equal_weights_asset_returns = Portfolio.calculate_daily_average_returns(raw_adjusted_returns_df, by_asset=True)\n",
    "equal_weights_global_returns = Portfolio.calculate_daily_average_returns(equal_weights_asset_returns, global_avg=True)\n",
    "equal_weights_global_returns = equal_weights_global_returns.rename(columns={equal_weights_global_returns.columns[0]: 'equal_weights'})\n",
    "\n",
    "# Concaténation des DataFrames\n",
    "total_df = pd.concat([test_global_returns, equal_weights_global_returns], axis=1).dropna()"
   ]
  },
  {
   "cell_type": "markdown",
   "metadata": {},
   "source": [
    "# Visualization"
   ]
  },
  {
   "cell_type": "code",
   "execution_count": null,
   "metadata": {},
   "outputs": [],
   "source": [
    "test_returns = total_df#.loc['2015-01-01':]\n",
    "\n",
    "original_equity_curves = Process_Data.equity_curves_calculs(test_returns, initial_equity = 100000)\n",
    "\n",
    "Dashboard.equity(original_equity_curves)\n",
    "#Dashboard.plot_final_equity_values(test_returns)\n",
    "Dashboard.drawdowns(original_equity_curves)\n",
    "#Dashboard.max_drawdowns(test_returns)\n",
    "Dashboard.volatility(test_returns, means=False)\n",
    "Dashboard.rolling_sharpe_ratio(test_returns, window_size=1250)\n",
    "sharpe_ratios = Dashboard.overall_sharpe_ratios(test_returns)\n",
    "#Dashboard.overall_monthly_skew(test_returns)\n",
    "#Dashboard.sharpe_ratios_heatmap(raw_adjusted_returns_df, 'LenVol', 'LenSmooth')\n",
    "#Dashboard.sharpe_ratios_3d_scatter_plot(raw_adjusted_returns_df, ['LenST', 'LenLT', 'MacdLength'])\n",
    "#Dashboard.params_relative_impact_on_sharpe(daily_returns, ['LenST', 'LenLT'])\n",
    "#Dashboard.sharpe_ratios_yearly_table(combined_df)\n",
    "#Dashboard.correlation_heatmap(test_returns)\n",
    "#Dashboard.average_correlation_bar_chart(test_returns)\n",
    "#Dashboard.sharpe_correlation_ratio_bar_chart(daily_returns)\n",
    "#Dashboard.returns_distribution(daily_returns)\n",
    "#Dashboard.plot_static_clusters(test, 4, 1, 1)\n",
    "#clusters_dict\n",
    "#sharpe_ratios\n",
    "#nan_dict"
   ]
  }
 ],
 "metadata": {
  "kernelspec": {
   "display_name": "Python 3",
   "language": "python",
   "name": "python3"
  },
  "language_info": {
   "codemirror_mode": {
    "name": "ipython",
    "version": 3
   },
   "file_extension": ".py",
   "mimetype": "text/x-python",
   "name": "python",
   "nbconvert_exporter": "python",
   "pygments_lexer": "ipython3",
   "version": "3.12.3"
  }
 },
 "nbformat": 4,
 "nbformat_minor": 2
}
