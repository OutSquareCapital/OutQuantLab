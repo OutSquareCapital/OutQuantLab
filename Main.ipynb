{
 "cells": [
  {
   "cell_type": "markdown",
   "metadata": {},
   "source": [
    "## Imports"
   ]
  },
  {
   "cell_type": "code",
   "execution_count": null,
   "metadata": {},
   "outputs": [],
   "source": [
    "import Config\n",
    "from Signals import *\n",
    "import Portfolio\n",
    "import Get_Data\n",
    "import Process_Data\n",
    "import Dashboard\n",
    "import Backtest"
   ]
  },
  {
   "cell_type": "markdown",
   "metadata": {},
   "source": [
    "## Get Data"
   ]
  },
  {
   "cell_type": "code",
   "execution_count": null,
   "metadata": {},
   "outputs": [],
   "source": [
    "# Re-actualisation du data\n",
    "#Get_Data.get_yahoo_finance_data(Config.yahoo_assets, Config.FILE_PATH_YF)\n",
    "#Get_Data.clean_and_process_prices(Config.FILE_PATH_YF)\n",
    "\n",
    "data_prices_df, assets_names = Get_Data.load_prices_from_csv(Config.FILE_PATH_YF)"
   ]
  },
  {
   "cell_type": "markdown",
   "metadata": {},
   "source": [
    "## Config"
   ]
  },
  {
   "cell_type": "code",
   "execution_count": null,
   "metadata": {},
   "outputs": [],
   "source": [
    "indicators_and_params, assets_to_backtest = Config.dynamic_config(assets_names, auto=True)"
   ]
  },
  {
   "cell_type": "markdown",
   "metadata": {},
   "source": [
    "## Process Data"
   ]
  },
  {
   "cell_type": "code",
   "execution_count": null,
   "metadata": {},
   "outputs": [],
   "source": [
    "# Process Data\n",
    "data_prices_df = Process_Data.adjust_prices_for_inversion(data_prices_df, ['VIXY'])\n",
    "\n",
    "data = Process_Data.process_category_data(assets_names,\n",
    "                                          data_prices_df, \n",
    "                                          assets_to_backtest,\n",
    "                                          initial_equity=100)   \n",
    "\n",
    "prices_array_test = data['returnstreams']['prices_array']\n",
    "volatility_adjusted_pct_returns_array_test = data['returnstreams']['volatility_adjusted_pct_returns']\n",
    "log_returns_array_test = data['returnstreams']['log_returns_array']\n",
    "asset_names_test = data['returnstreams']['asset_names']\n",
    "dates_index = data['returnstreams']['dates']"
   ]
  },
  {
   "cell_type": "code",
   "execution_count": null,
   "metadata": {},
   "outputs": [],
   "source": [
    "# Suppression des objets désormais inutiles\n",
    "del (\n",
    "    assets_to_backtest,\n",
    "    data_prices_df, \n",
    "    assets_names, \n",
    "    data,\n",
    "    )"
   ]
  },
  {
   "cell_type": "markdown",
   "metadata": {},
   "source": [
    "## Backtest"
   ]
  },
  {
   "cell_type": "code",
   "execution_count": null,
   "metadata": {},
   "outputs": [],
   "source": [
    "# Trading Signals\n",
    "raw_adjusted_returns_df = Backtest.process_backtest(\n",
    "                                                    prices_array_test,\n",
    "                                                    log_returns_array_test,\n",
    "                                                    volatility_adjusted_pct_returns_array_test,\n",
    "                                                    asset_names_test,\n",
    "                                                    dates_index,\n",
    "                                                    indicators_and_params)"
   ]
  },
  {
   "cell_type": "code",
   "execution_count": null,
   "metadata": {},
   "outputs": [],
   "source": [
    "# Suppression des objets désormais inutiles\n",
    "del (\n",
    "    prices_array_test,\n",
    "    log_returns_array_test,\n",
    "    volatility_adjusted_pct_returns_array_test,\n",
    "    dates_index,\n",
    "    )"
   ]
  },
  {
   "cell_type": "markdown",
   "metadata": {},
   "source": [
    "## Portfolio Construction"
   ]
  },
  {
   "cell_type": "code",
   "execution_count": null,
   "metadata": {},
   "outputs": [],
   "source": [
    "#portfolio_base_structure = Portfolio.classify_assets(asset_names_test, Config.portfolio_etf)\n",
    "\n",
    "#relativized_sharpes_df = Portfolio.relative_sharpe_on_confidence_period(raw_adjusted_returns_df, sharpe_lookback = 5000, confidence_lookback=2500)\n",
    "#optimized_returns_rltv = raw_adjusted_returns_df * relativized_sharpes_df.shift(1)\n",
    "#test_strategy_returns = Portfolio.calculate_daily_average_returns(optimized_returns_rltv, by_method=True, by_class=True, by_asset=True)\n",
    "#test_asset_returns = Portfolio.generate_recursive_strategy_means(test_strategy_returns, Config.portfolio_strategies)\n",
    "#test_global_returns = Portfolio.generate_recursive_means(test_asset_returns, portfolio_base_structure)\n",
    "#test_global_returns = test_global_returns.rename(columns={test_global_returns.columns[0]: 'cluster_optimized'})\n",
    "\n",
    "equal_weights_asset_returns = Portfolio.calculate_daily_average_returns(raw_adjusted_returns_df, by_asset=True)\n",
    "equal_weights_global_returns = Portfolio.calculate_daily_average_returns(equal_weights_asset_returns, global_avg=True)\n",
    "equal_weights_global_returns = equal_weights_global_returns.rename(columns={equal_weights_global_returns.columns[0]: 'equal_weights'})\n",
    "\n",
    "# Concaténation des DataFrames\n",
    "#total_df = pd.concat([test_global_returns, equal_weights_global_returns], axis=1).dropna()"
   ]
  },
  {
   "cell_type": "markdown",
   "metadata": {},
   "source": [
    "## Visualization"
   ]
  },
  {
   "cell_type": "code",
   "execution_count": null,
   "metadata": {},
   "outputs": [],
   "source": [
    "# Visualization\n",
    "test_returns = equal_weights_global_returns#.loc['2015-01-01':]\n",
    "\n",
    "original_equity_curves = Process_Data.equity_curves_calculs(test_returns, initial_equity = 100000)\n",
    "\n",
    "Dashboard.equity(original_equity_curves)\n",
    "#Dashboard.plot_final_equity_values(test_returns)\n",
    "#Dashboard.drawdowns(original_equity_curves)\n",
    "#Dashboard.max_drawdowns(test_returns)\n",
    "#Dashboard.volatility(test_returns, means=False)\n",
    "Dashboard.rolling_sharpe_ratio(test_returns, window_size=1250)\n",
    "sharpe_ratios = Dashboard.overall_sharpe_ratios(test_returns)\n",
    "#Dashboard.overall_monthly_skew(test_returns)\n",
    "#Dashboard.sharpe_ratios_heatmap(raw_adjusted_returns_df, 'LenVol', 'LenSmooth')\n",
    "#Dashboard.sharpe_ratios_3d_scatter_plot(raw_adjusted_returns_df, ['LenST', 'LenLT', 'MacdLength'])\n",
    "#Dashboard.params_relative_impact_on_sharpe(daily_returns, ['LenST', 'LenLT'])\n",
    "#Dashboard.sharpe_ratios_yearly_table(combined_df)\n",
    "#Dashboard.correlation_heatmap(test_returns)\n",
    "#Dashboard.average_correlation_bar_chart(test_returns)\n",
    "#Dashboard.sharpe_correlation_ratio_bar_chart(daily_returns)\n",
    "#Dashboard.returns_distribution(daily_returns)\n",
    "#Dashboard.plot_static_clusters(test, 4, 1, 1)\n",
    "#clusters_dict\n",
    "#sharpe_ratios\n",
    "#nan_dict"
   ]
  }
 ],
 "metadata": {
  "kernelspec": {
   "display_name": ".conda",
   "language": "python",
   "name": "python3"
  },
  "language_info": {
   "codemirror_mode": {
    "name": "ipython",
    "version": 3
   },
   "file_extension": ".py",
   "mimetype": "text/x-python",
   "name": "python",
   "nbconvert_exporter": "python",
   "pygments_lexer": "ipython3",
   "version": "3.12.3"
  }
 },
 "nbformat": 4,
 "nbformat_minor": 2
}
